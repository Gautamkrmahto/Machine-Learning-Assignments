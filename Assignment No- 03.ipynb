{
 "cells": [
  {
   "cell_type": "markdown",
   "id": "dafc0184",
   "metadata": {},
   "source": [
    "1.1 Write a Python Program to implement your own myreduce() function which works exactly\n",
    "like Python's built-in function reduce()"
   ]
  },
  {
   "cell_type": "code",
   "execution_count": 1,
   "id": "d56901c6",
   "metadata": {},
   "outputs": [
    {
     "name": "stdout",
     "output_type": "stream",
     "text": [
      "Output with original reduce function:  73\n",
      "Output with custom myreduce function:  73\n"
     ]
    }
   ],
   "source": [
    "from functools import reduce\n",
    "\n",
    "\n",
    "def minus(a, b):\n",
    "    return a-b\n",
    "\n",
    "\n",
    "l = [100, 4, 3, 1, 8, 5, 6]\n",
    "\n",
    "print(\"Output with original reduce function: \", reduce(minus, l))\n",
    "\n",
    "# creating custom myreduce function\n",
    "\n",
    "def myreduce(function, sequence):\n",
    "    first_ele = sequence[0]  \n",
    "    for next_ele in sequence[1:]:\n",
    "        first_ele = function(first_ele, next_ele)\n",
    "    return first_ele\n",
    "\n",
    "\n",
    "print(\"Output with custom myreduce function: \", myreduce(minus, l))"
   ]
  },
  {
   "cell_type": "markdown",
   "id": "8a21cf30",
   "metadata": {},
   "source": [
    "1.2 Write a Python program to implement your own myfilter() function which works exactly\n",
    "\n",
    "like Python's built-in function filter()"
   ]
  },
  {
   "cell_type": "code",
   "execution_count": 2,
   "id": "716815e5",
   "metadata": {},
   "outputs": [
    {
     "name": "stdout",
     "output_type": "stream",
     "text": [
      "Output with original filter function:  [1, 3, 5, 7, 9, 11, 13]\n",
      "Output with custom myfilter function:  [1, 3, 5, 7, 9, 11, 13]\n"
     ]
    }
   ],
   "source": [
    "def odd_number(num):\n",
    "    if num % 2 == 0:\n",
    "        return False\n",
    "    else:\n",
    "        return True\n",
    "\n",
    "\n",
    "lst = [1, 2, 3, 4, 5, 6, 7, 8, 9, 10, 11, 12, 13]\n",
    "\n",
    "print(\"Output with original filter function: \", list(filter(odd_number, lst)))\n",
    "\n",
    "# creating custom myfilter function\n",
    "\n",
    "def myfilter(function, sequence):  \n",
    "    new_list = []\n",
    "    for ele in sequence:\n",
    "        if function(ele) == True:\n",
    "            \n",
    "            new_list.append(ele)\n",
    "    return new_list\n",
    "\n",
    "\n",
    "print(\"Output with custom myfilter function: \", list(myfilter(odd_number, lst)))"
   ]
  },
  {
   "cell_type": "raw",
   "id": "31a99481",
   "metadata": {},
   "source": [
    "2. Implement List comprehensions to produce the following lists.\n",
    "Write List comprehensions to produce the following Lists\n",
    "['A', 'C', 'A', 'D', 'G', 'I', ’L’, ‘ D’]\n",
    "['x', 'xx', 'xxx', 'xxxx', 'y', 'yy', 'yyy', 'yyyy', 'z', 'zz', 'zzz', 'zzzz']\n",
    "['x', 'y', 'z', 'xx', 'yy', 'zz', 'xxx', 'yyy', 'zzz', 'xxxx', 'yyyy', 'zzzz']\n",
    "[[2], [3], [4], [3], [4], [5], [4], [5], [6]] [[2, 3, 4, 5], [3, 4, 5, 6],\n",
    "[4, 5, 6, 7], [5, 6, 7, 8]]\n",
    "[(1, 1), (2, 1), (3, 1), (1, 2), (2, 2), (3, 2), (1, 3), (2, 3), (3, 3)]"
   ]
  },
  {
   "cell_type": "code",
   "execution_count": 3,
   "id": "f7f8c906",
   "metadata": {},
   "outputs": [
    {
     "name": "stdout",
     "output_type": "stream",
     "text": [
      "['x', 'y', 'z'] <-----> ['x', 'xx', 'xxx', 'xxxx', 'y', 'yy', 'yyy', 'yyyy', 'z', 'zz', 'zzz', 'zzzz']\n"
     ]
    }
   ],
   "source": [
    "# ['x', 'xx', 'xxx', 'xxxx', 'y', 'yy', 'yyy', 'yyyy', 'z', 'zz', 'zzz', 'zzzz']\n",
    "\n",
    "base_list = ['x', 'y', 'z']\n",
    "new_list = [ele*num for ele in base_list for num in range(1, 5)]\n",
    "print(base_list, \"<----->\", new_list)"
   ]
  },
  {
   "cell_type": "code",
   "execution_count": 4,
   "id": "288f70cb",
   "metadata": {},
   "outputs": [
    {
     "name": "stdout",
     "output_type": "stream",
     "text": [
      "['x', 'y', 'z'] <-----> ['x', 'y', 'z', 'xx', 'yy', 'zz', 'xxx', 'yyy', 'zzz', 'xxxx', 'yyyy', 'zzzz']\n"
     ]
    }
   ],
   "source": [
    "# ['x', 'y', 'z', 'xx', 'yy', 'zz', 'xxx', 'yyy', 'zzz', 'xxxx', 'yyyy', 'zzzz']\n",
    "\n",
    "new_list = [ele*num for num in range(1, 5) for ele in base_list]\n",
    "print(base_list, \"<----->\", new_list)"
   ]
  },
  {
   "cell_type": "code",
   "execution_count": 5,
   "id": "ae608fa0",
   "metadata": {},
   "outputs": [
    {
     "name": "stdout",
     "output_type": "stream",
     "text": [
      "[2, 3, 4] <-----> [[2], [3], [4], [3], [4], [5], [4], [5], [6]]\n"
     ]
    }
   ],
   "source": [
    "# [[2], [3], [4], [3], [4], [5], [4], [5], [6]]\n",
    "\n",
    "num_list = [2, 3, 4]\n",
    "new_list = [[ele+num] for ele in num_list for num in range(3)]\n",
    "print(num_list, \"<----->\", new_list)"
   ]
  },
  {
   "cell_type": "code",
   "execution_count": 6,
   "id": "747d58e6",
   "metadata": {},
   "outputs": [
    {
     "name": "stdout",
     "output_type": "stream",
     "text": [
      "[2, 3, 4, 5] <-----> [[2, 3, 4, 5], [3, 4, 5, 6], [4, 5, 6, 7], [5, 6, 7, 8]]\n"
     ]
    }
   ],
   "source": [
    "# [[2, 3, 4, 5], [3, 4, 5, 6],[4, 5, 6, 7], [5, 6, 7, 8]]\n",
    "\n",
    "num_list = [2, 3, 4, 5]\n",
    "new_list = [[ele+num for ele in num_list] for num in range(4)]\n",
    "print(num_list, \"<----->\", new_list)"
   ]
  },
  {
   "cell_type": "code",
   "execution_count": 7,
   "id": "daff2773",
   "metadata": {},
   "outputs": [
    {
     "name": "stdout",
     "output_type": "stream",
     "text": [
      "[1, 2, 3] <-----> [(1, 1), (2, 1), (3, 1), (1, 2), (2, 2), (3, 2), (1, 3), (2, 3), (3, 3)]\n"
     ]
    }
   ],
   "source": [
    "# [(1, 1), (2, 1), (3, 1), (1, 2), (2, 2), (3, 2), (1, 3), (2, 3), (3, 3)]\n",
    "\n",
    "num_list = [1, 2, 3]\n",
    "new_list = [(ele, num) for num in num_list for ele in num_list]\n",
    "print(num_list, \"<----->\", new_list)"
   ]
  },
  {
   "cell_type": "code",
   "execution_count": null,
   "id": "7d2f4c86",
   "metadata": {},
   "outputs": [],
   "source": []
  }
 ],
 "metadata": {
  "kernelspec": {
   "display_name": "Python 3 (ipykernel)",
   "language": "python",
   "name": "python3"
  },
  "language_info": {
   "codemirror_mode": {
    "name": "ipython",
    "version": 3
   },
   "file_extension": ".py",
   "mimetype": "text/x-python",
   "name": "python",
   "nbconvert_exporter": "python",
   "pygments_lexer": "ipython3",
   "version": "3.9.7"
  }
 },
 "nbformat": 4,
 "nbformat_minor": 5
}
