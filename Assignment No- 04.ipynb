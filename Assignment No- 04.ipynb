{
 "cells": [
  {
   "cell_type": "markdown",
   "id": "69f0d2a5",
   "metadata": {},
   "source": [
    " 1.1 Write a Python Program(with class concepts) to find the area of the triangle using the below\n",
    "formula.\n",
    "area = (s*(s-a)*(s-b)*(s-c)) ** 0.5\n",
    "Function to take the length of the sides of triangle from user should be defined in the parent\n",
    "class and function to calculate the area should be defined in subclass."
   ]
  },
  {
   "cell_type": "code",
   "execution_count": null,
   "id": "71296f50",
   "metadata": {},
   "outputs": [],
   "source": [
    "class length:\n",
    "    def __init__(self, side1, side2, side3):\n",
    "        self.side1, self.side2, self.side3 = [\n",
    "            float(side) for side in input(\n",
    "                \"Enter length of sides with space : \").split()]\n",
    "\n",
    "\n",
    "class triangle(length):\n",
    "    def __init__(self, side1, side2, side3):\n",
    "        length.__init__(self, side1, side2, side3)\n",
    "\n",
    "    def area(self):\n",
    "        s = (self.side1+ self.side2+self.side3)/2\n",
    "        return ((s * (s-self.side1) * (s-self.side2) * (s-self.side3)))**0.5\n",
    "\n",
    "mytriangle = triangle(0,0,0)\n",
    "print(\"Area of the triangle is : \",mytriangle.area())"
   ]
  },
  {
   "cell_type": "markdown",
   "id": "4cda7976",
   "metadata": {},
   "source": [
    " 1.2 Write a function filter_long_words() that takes a list of words and an integer n and returns the list of words that are longer than n\n"
   ]
  },
  {
   "cell_type": "code",
   "execution_count": 9,
   "id": "d93538e3",
   "metadata": {},
   "outputs": [
    {
     "data": {
      "text/plain": [
       "['Gautam', 'mahto', 'good', 'sure']"
      ]
     },
     "execution_count": 9,
     "metadata": {},
     "output_type": "execute_result"
    }
   ],
   "source": [
    "def filter_long_words(lst, n):\n",
    "    return list(filter(lambda ele: len(ele) > n, lst))\n",
    "\n",
    "\n",
    "test = [\"Gautam\", \"mahto\", \"is\", \"a\", \"good\", \"for\", \"sure\"]\n",
    "filter_long_words(test, 3)"
   ]
  },
  {
   "cell_type": "raw",
   "id": "514b8e1f",
   "metadata": {},
   "source": [
    "2.1 Write a Python program using function concept that maps list of words into a list of integers representing the lengths of the corresponding words."
   ]
  },
  {
   "cell_type": "code",
   "execution_count": 11,
   "id": "0fc7527e",
   "metadata": {},
   "outputs": [
    {
     "data": {
      "text/plain": [
       "[6, 5, 2, 1, 4, 3, 4]"
      ]
     },
     "execution_count": 11,
     "metadata": {},
     "output_type": "execute_result"
    }
   ],
   "source": [
    "def length(lst):\n",
    "    return list(map(lambda ele: len(ele), lst))\n",
    "\n",
    "\n",
    "length(test)"
   ]
  },
  {
   "cell_type": "markdown",
   "id": "99e5f4dc",
   "metadata": {},
   "source": [
    "2.2 Write a Python function which takes a character (i.e. a string of length 1) and returns True if\n",
    "it is a vowel, False otherwise."
   ]
  },
  {
   "cell_type": "code",
   "execution_count": 14,
   "id": "9db2d36c",
   "metadata": {},
   "outputs": [
    {
     "name": "stdout",
     "output_type": "stream",
     "text": [
      "Enter a character :a\n",
      "Is a a vowel?:  True\n"
     ]
    }
   ],
   "source": [
    "def if_vowel(char):\n",
    "    vowel = [\"a\", \"e\", \"i\", \"o\", \"u\"]\n",
    "    if len(char) > 1:\n",
    "        print(\"Please enter only one character\")\n",
    "    elif char in vowel:\n",
    "        return True\n",
    "    else:\n",
    "        return False\n",
    "\n",
    "\n",
    "char = input(\"Enter a character :\")\n",
    "new_char = char.lower()\n",
    "print(\"Is {} a vowel?: \".format(char),if_vowel(new_char))"
   ]
  },
  {
   "cell_type": "code",
   "execution_count": null,
   "id": "59393edf",
   "metadata": {},
   "outputs": [],
   "source": []
  }
 ],
 "metadata": {
  "kernelspec": {
   "display_name": "Python 3 (ipykernel)",
   "language": "python",
   "name": "python3"
  },
  "language_info": {
   "codemirror_mode": {
    "name": "ipython",
    "version": 3
   },
   "file_extension": ".py",
   "mimetype": "text/x-python",
   "name": "python",
   "nbconvert_exporter": "python",
   "pygments_lexer": "ipython3",
   "version": "3.9.7"
  }
 },
 "nbformat": 4,
 "nbformat_minor": 5
}
